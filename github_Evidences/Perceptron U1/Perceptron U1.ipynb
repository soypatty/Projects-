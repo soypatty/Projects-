{
  "nbformat": 4,
  "nbformat_minor": 0,
  "metadata": {
    "colab": {
      "provenance": []
    },
    "kernelspec": {
      "name": "python3",
      "display_name": "Python 3"
    },
    "language_info": {
      "name": "python"
    }
  },
  "cells": [
    {
      "cell_type": "code",
      "execution_count": null,
      "metadata": {
        "id": "wlQb_9yO-Mxu"
      },
      "outputs": [],
      "source": [
        "from google.colab import files\n",
        "\n",
        "upload = files.upload()"
      ]
    },
    {
      "cell_type": "code",
      "source": [
        "import pandas as pd\n",
        "path = '/content/Social_Network_Ads.csv'\n",
        "df = pd.read_csv(path)\n",
        "\n",
        "df.head(5)"
      ],
      "metadata": {
        "id": "wNNerkv1-gQB"
      },
      "execution_count": null,
      "outputs": []
    },
    {
      "cell_type": "code",
      "source": [
        "df.describe()"
      ],
      "metadata": {
        "id": "Kqn9e4k7AD1g"
      },
      "execution_count": null,
      "outputs": []
    },
    {
      "cell_type": "code",
      "source": [
        "print(df)"
      ],
      "metadata": {
        "id": "mFzWD9ASAX0y"
      },
      "execution_count": null,
      "outputs": []
    },
    {
      "cell_type": "code",
      "source": [
        "import numpy as np\n",
        "df['Male'] = np.where(df['Gender']=='Male', '1', '0')\n",
        "df['Female'] = np.where(df['Gender']=='Female', '1', '0')"
      ],
      "metadata": {
        "id": "Z7PW3yvJkK-F"
      },
      "execution_count": null,
      "outputs": []
    },
    {
      "cell_type": "code",
      "source": [
        "df = df[['User ID', 'Male', 'Female', 'Age', 'EstimatedSalary', 'Purchased']]\n"
      ],
      "metadata": {
        "id": "VZoDnSqPB6J9"
      },
      "execution_count": null,
      "outputs": []
    },
    {
      "cell_type": "code",
      "source": [
        "print(df)"
      ],
      "metadata": {
        "id": "4un0VMXdoXGU"
      },
      "execution_count": null,
      "outputs": []
    },
    {
      "cell_type": "code",
      "source": [
        "df = df.drop( columns = ['User ID'])"
      ],
      "metadata": {
        "id": "8kS1eatOqs6-"
      },
      "execution_count": null,
      "outputs": []
    },
    {
      "cell_type": "code",
      "source": [
        "import sklearn\n",
        "\n",
        "dfx_train = df.iloc[:319, 0:4]"
      ],
      "metadata": {
        "id": "CFGLfQB5DfBW"
      },
      "execution_count": null,
      "outputs": []
    },
    {
      "cell_type": "code",
      "source": [
        "dfx_train.shape\n"
      ],
      "metadata": {
        "id": "yzr_duKuEkke"
      },
      "execution_count": null,
      "outputs": []
    },
    {
      "cell_type": "code",
      "source": [
        "dfx_test = df.iloc[320:, 0:4]\n",
        "dfx_test.shape"
      ],
      "metadata": {
        "id": "pHTsP_uPEzM3"
      },
      "execution_count": null,
      "outputs": []
    },
    {
      "cell_type": "code",
      "source": [
        "y = df['Purchased']\n",
        "print(y)"
      ],
      "metadata": {
        "id": "SXgrHBjqFjOH"
      },
      "execution_count": null,
      "outputs": []
    },
    {
      "cell_type": "code",
      "source": [
        "dfy_train = y.iloc[:319]\n",
        "dfy_train.shape"
      ],
      "metadata": {
        "colab": {
          "base_uri": "https://localhost:8080/"
        },
        "id": "P2yxV0ATF0Ux",
        "outputId": "69b277b7-3414-4752-a8ef-9fc3967780ec"
      },
      "execution_count": null,
      "outputs": [
        {
          "output_type": "execute_result",
          "data": {
            "text/plain": [
              "(319,)"
            ]
          },
          "metadata": {},
          "execution_count": 40
        }
      ]
    },
    {
      "cell_type": "code",
      "source": [
        "dfy_test = y.iloc[320:]\n",
        "dfy_test.shape"
      ],
      "metadata": {
        "id": "ba92lQ65GCPn"
      },
      "execution_count": null,
      "outputs": []
    },
    {
      "cell_type": "code",
      "source": [
        "print(dfx_train)\n",
        "print(dfx_test)"
      ],
      "metadata": {
        "id": "U4q1s7GDq0Fv"
      },
      "execution_count": null,
      "outputs": []
    },
    {
      "cell_type": "code",
      "source": [
        "#from sklearn.datasets import load_digits\n",
        "from sklearn.linear_model import Perceptron\n",
        "#dfx_train, dfy_train = load_digits(return_X_y=True)\n",
        "clf = Perceptron(tol=1e-3, random_state=0)"
      ],
      "metadata": {
        "id": "js4MdGw-xVAA"
      },
      "execution_count": null,
      "outputs": []
    },
    {
      "cell_type": "code",
      "source": [
        "clf.fit(dfx_train, dfy_train)"
      ],
      "metadata": {
        "id": "bncNkP3ZyLGH"
      },
      "execution_count": null,
      "outputs": []
    },
    {
      "cell_type": "code",
      "source": [
        "clf.score(dfx_train, dfy_train)"
      ],
      "metadata": {
        "id": "8rCQxrhLyNxg"
      },
      "execution_count": null,
      "outputs": []
    },
    {
      "cell_type": "code",
      "source": [
        "clf.predict(dfx_test)"
      ],
      "metadata": {
        "id": "wOkIZFDt0pmU"
      },
      "execution_count": null,
      "outputs": []
    },
    {
      "cell_type": "code",
      "source": [
        "print(dfy_test)"
      ],
      "metadata": {
        "id": "zu6nW7h12Am8"
      },
      "execution_count": null,
      "outputs": []
    }
  ]
}